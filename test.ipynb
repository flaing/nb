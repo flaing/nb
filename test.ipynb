{
 "metadata": {
  "name": "",
  "signature": "sha256:238298ea532d24df74232bb9b1faed402191190b7da82d92461239d838f81bdd"
 },
 "nbformat": 3,
 "nbformat_minor": 0,
 "worksheets": [
  {
   "cells": [
    {
     "cell_type": "code",
     "collapsed": false,
     "input": [
      "from bs4 import BeautifulSoup\n",
      "import requests\n",
      "import time \n",
      "\n",
      "booklist = ['9789863021582', '9789866031472']\n",
      "find_url = 'http://findbook.tw/book/%s/basic'\n",
      "for book in booklist:\n",
      "    f = open('%s.html'%(book), 'w')\n",
      "    res = requests.get(find_url%(book))\n",
      "    res.encoding= 'utf-8'\n",
      "    f.write(res.text.encode('utf-8'))\n",
      "    f.close()\n",
      "    time.sleep(1)"
     ],
     "language": "python",
     "metadata": {},
     "outputs": [],
     "prompt_number": 8
    },
    {
     "cell_type": "code",
     "collapsed": false,
     "input": [
      "rsoup = BeautifulSoup(res.text)"
     ],
     "language": "python",
     "metadata": {},
     "outputs": [],
     "prompt_number": 10
    },
    {
     "cell_type": "code",
     "collapsed": false,
     "input": [
      "import pandas as pd\n",
      "import numpy as np"
     ],
     "language": "python",
     "metadata": {},
     "outputs": [],
     "prompt_number": 12
    },
    {
     "cell_type": "code",
     "collapsed": false,
     "input": [
      "pd.DataFrame??"
     ],
     "language": "python",
     "metadata": {},
     "outputs": [],
     "prompt_number": 16
    }
   ],
   "metadata": {}
  }
 ]
}