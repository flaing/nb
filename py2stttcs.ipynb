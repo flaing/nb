{
 "metadata": {
  "name": "",
  "signature": "sha256:07c5855dd8d4da04e7cb0c6e06b485595aaf7a648dcd80bba5e4b73bcfb36093"
 },
 "nbformat": 3,
 "nbformat_minor": 0,
 "worksheets": [
  {
   "cells": [
    {
     "cell_type": "code",
     "collapsed": false,
     "input": [
      "#!/usr/bin/env python\n",
      "\"\"\"\n",
      "In [1]: import statistics\n",
      "In [2]: s = statistics\n",
      "In [3]: s.\n",
      "s.Decimal          s.collections      s.median           s.median_low       s.pvariance\n",
      "s.Fraction         s.math             s.median_grouped   s.mode             s.stdev\n",
      "s.StatisticsError  s.mean             s.median_high      s.pstdev           s.variance\n",
      "#************ IMITATION GAME LOL ************#\n",
      "\"\"\"\n",
      "__author__ = \"flaing\"\n",
      "__copyright__ = \"\"\n",
      "__credits__ = []\n",
      "__license__ = \"GPL\"\n",
      "__version__ = \"0.0.1\"\n",
      "__maintainer__ = \"flaing\"\n",
      "__email__ = \"flaing12@gmail.com\"\n",
      "__status__ = \"Prototype\"\n",
      "\n",
      "__doc__ = [\"StatisticsError\", \"mean\", \"median\", \"median_grouped\", \\\n",
      "           \"median_high\", \"median_low\", \"mode\", \"pstdev\", \"pvariance\", \\\n",
      "           \"stdev\", \"variance\"]\n",
      "\n",
      "## 1)You can import Decimal, collections, Fraction, math. But I decide not.\n",
      "from decimal import Decimal\n",
      "\n",
      "# some vars globally use in this class\n",
      "def StatisticsError(Err):\n",
      "    return ValueError(Err)\n",
      "\n",
      "def freqDic(data):\n",
      "    \"\"\"return a table structured by dictionary mapping like number -> frequency\"\"\"\n",
      "    dicc = {}\n",
      "    for d in data:\n",
      "        if dicc.get(d) is None:\n",
      "            dicc[d] = data.count(d)\n",
      "    return sorted(dicc)\n",
      "\n",
      "def mean(data):\n",
      "    \"\"\"return mean\"\"\"\n",
      "    s = sum(data)\n",
      "    l = len(data)\n",
      "    v = s // l\n",
      "    return v\n",
      "    del s, l, v\n",
      "\n",
      "def variance(data):\n",
      "    \"\"\"return Var(X) of sample\"\"\"\n",
      "    f = len(data) - 1\n",
      "    m = mean(data)\n",
      "    q = 0\n",
      "    for d in data:\n",
      "        q += (d - m) ** 2\n",
      "    q /= f\n",
      "    return q\n",
      "\n",
      "def pvariance(data):\n",
      "    \"\"\"return Var(X) of population\"\"\"\n",
      "    l = len(data)\n",
      "    m = mean(data)\n",
      "    q = 0\n",
      "    for d in data:\n",
      "        q += (d-m) ** 2\n",
      "    q /= l\n",
      "    return q\n",
      "\n",
      "def stdev(data):\n",
      "    return math.sqrt(variance(data))\n",
      "\n",
      "def median_low(data):\n",
      "    \"\"\"return median, and while\"\"\"\n",
      "    data = sorted(data)\n",
      "    l = len(data)\n",
      "    if l == 0:\n",
      "        raise StantisticsError(\"empty\")\n",
      "    if l % 2 == 1:\n",
      "        return(data[n//2])\n",
      "    else:\n",
      "        return(data[n//2-1])\n",
      "    \n",
      "def median(data):\n",
      "    \"\"\"return median\"\"\"\n",
      "    if data is not list:\n",
      "        data = list(data)\n",
      "    data = sorted(data)\n",
      "    l = len(data)\n",
      "    if l == 0:\n",
      "        raise StatisticsError(\"empty\")\n",
      "    if l%2 == 1: # odd\n",
      "        ruturn(data[n//2])\n",
      "    else: # even\n",
      "        i = n//2\n",
      "        return mean(data[i-1]+data[i])\n",
      "    \n",
      "def median_high(data):\n",
      "    data = sorted(data)\n",
      "    l = len(data)\n",
      "    if l == 0:\n",
      "        raise StandardError(\"empty\")\n",
      "        return data[n // 2] # same when odd or even\n",
      "\n",
      "def mode(data):\n",
      "    table = freqDic(data)\n",
      "    return max(table)\n"
     ],
     "language": "python",
     "metadata": {},
     "outputs": [],
     "prompt_number": 5
    }
   ],
   "metadata": {}
  }
 ]
}