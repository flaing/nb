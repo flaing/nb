{
 "metadata": {
  "name": "",
  "signature": "sha256:3a0970a312f66583c3a8fd2234415020f0b2b0588156970cc6d4cd8b8ad038b9"
 },
 "nbformat": 3,
 "nbformat_minor": 0,
 "worksheets": [
  {
   "cells": [
    {
     "cell_type": "code",
     "collapsed": false,
     "input": [
      "#!/usr/bin/env python\n",
      "\"\"\"\n",
      "In [1]: import statistics\n",
      "In [2]: s = statistics\n",
      "In [3]: s.\n",
      "s.Decimal          s.collections      s.median           s.median_low       s.pvariance\n",
      "s.Fraction         s.math             s.median_grouped   s.mode             s.stdev\n",
      "s.StatisticsError  s.mean             s.median_high      s.pstdev           s.variance\n",
      "#************ IMITATION GAME LOL ************#\n",
      "\"\"\"\n",
      "__author__ = \"flaing\"\n",
      "__copyright__ = \"\"\n",
      "__credits__ = []\n",
      "__license__ = \"GPL\"\n",
      "__version__ = \"0.0.1\"\n",
      "__maintainer__ = \"flaing\"\n",
      "__email__ = \"flaing12@gmail.com\"\n",
      "__status__ = \"Prototype\"\n",
      "\n",
      "__doc__ = [\"StatisticsError\", \"mean\", \"median\", \"median_grouped\", \\\n",
      "           \"median_high\", \"median_low\", \"mode\", \"pstdev\", \"pvariance\", \\\n",
      "           \"stdev\", \"variance\"]\n",
      "\n",
      "## 1)You can import Decimal, collections, Fraction, math. But I decide not.\n",
      "from decimal import Decimal\n",
      "\n",
      "# some vars globally use in this class\n",
      "def StatisticsError(Err):\n",
      "    return ValueError(Err)\n",
      "\n",
      "def freqDic(data):\n",
      "    \"\"\"return a table structured by dictionary mapping like number -> frequency\"\"\"\n",
      "    dicc = {}\n",
      "    for d in data:\n",
      "        if dicc.get(d) is None:\n",
      "            dicc[d] = data.count(d)\n",
      "    return (dicc)\n",
      "\n",
      "def mean(data):\n",
      "    \"\"\"return mean\"\"\"\n",
      "    s = sum(data)\n",
      "    l = len(data)\n",
      "    v = s // l\n",
      "    return v\n",
      "    del s, l, v\n",
      "\n",
      "def variance(data):\n",
      "    \"\"\"return Var(X) of sample\"\"\"\n",
      "    f = len(data) - 1\n",
      "    m = mean(data)\n",
      "    q = 0\n",
      "    for d in data:\n",
      "        q += (d - m) ** 2\n",
      "    q /= f\n",
      "    return q\n",
      "\n",
      "def pvariance(data):\n",
      "    \"\"\"return Var(X) of population\"\"\"\n",
      "    l = len(data)\n",
      "    m = mean(data)\n",
      "    q = 0\n",
      "    for d in data:\n",
      "        q += (d-m) ** 2\n",
      "    q /= l\n",
      "    return q\n",
      "\n",
      "def stdev(data):\n",
      "    return math.sqrt(variance(data))\n",
      "\n",
      "def median_low(data):\n",
      "    \"\"\"return median, and while\"\"\"\n",
      "    data = sorted(data)\n",
      "    l = len(data)\n",
      "    if l == 0:\n",
      "        raise StantisticsError(\"empty\")\n",
      "    if l % 2 == 1:\n",
      "        return(data[n//2])\n",
      "    else:\n",
      "        return(data[n//2-1])\n",
      "    \n",
      "def median(data):\n",
      "    \"\"\"return median\"\"\"\n",
      "    if data is not list:\n",
      "        data = list(data)\n",
      "    data = sorted(data)\n",
      "    l = len(data)\n",
      "    if l == 0:\n",
      "        raise StatisticsError(\"empty\")\n",
      "    if l%2 == 1: # odd\n",
      "        ruturn(data[n//2])\n",
      "    else: # even\n",
      "        i = n//2\n",
      "        return mean(data[i-1]+data[i])\n",
      "    \n",
      "def median_high(data):\n",
      "    data = sorted(data)\n",
      "    l = len(data)\n",
      "    if l == 0:\n",
      "        raise StandardError(\"empty\")\n",
      "        return data[n // 2] # same when odd or even\n",
      "\n",
      "def mode(data):\n",
      "    if len(data)==0:\n",
      "        print 'empty'\n",
      "    tt = freqDic(data)\n",
      "    return max(tt, key=(lambda x:tt[x]))\n",
      "    \n"
     ],
     "language": "python",
     "metadata": {},
     "outputs": [],
     "prompt_number": 110
    },
    {
     "cell_type": "code",
     "collapsed": false,
     "input": [
      "import random\n",
      "\n",
      "get_data = lambda : [random.randint(1,100) for d in range(2000)]\n",
      "data = get_data()"
     ],
     "language": "python",
     "metadata": {},
     "outputs": [],
     "prompt_number": 7
    },
    {
     "cell_type": "code",
     "collapsed": false,
     "input": [
      "dic = freqDic(data)\n",
      "print dic"
     ],
     "language": "python",
     "metadata": {},
     "outputs": [
      {
       "output_type": "stream",
       "stream": "stdout",
       "text": [
        "{1: 13, 2: 13, 3: 27, 4: 17, 5: 13, 6: 25, 7: 23, 8: 16, 9: 18, 10: 18, 11: 15, 12: 19, 13: 16, 14: 17, 15: 19, 16: 24, 17: 21, 18: 17, 19: 20, 20: 21, 21: 18, 22: 22, 23: 20, 24: 20, 25: 16, 26: 19, 27: 21, 28: 20, 29: 20, 30: 25, 31: 11, 32: 20, 33: 22, 34: 19, 35: 25, 36: 28, 37: 17, 38: 8, 39: 18, 40: 22, 41: 24, 42: 18, 43: 21, 44: 19, 45: 22, 46: 24, 47: 22, 48: 21, 49: 20, 50: 16, 51: 17, 52: 15, 53: 29, 54: 18, 55: 21, 56: 25, 57: 29, 58: 27, 59: 22, 60: 23, 61: 22, 62: 13, 63: 17, 64: 21, 65: 23, 66: 19, 67: 21, 68: 18, 69: 19, 70: 23, 71: 22, 72: 18, 73: 21, 74: 10, 75: 19, 76: 24, 77: 26, 78: 24, 79: 21, 80: 18, 81: 18, 82: 23, 83: 17, 84: 14, 85: 19, 86: 23, 87: 27, 88: 30, 89: 17, 90: 20, 91: 18, 92: 14, 93: 15, 94: 20, 95: 16, 96: 22, 97: 24, 98: 22, 99: 28, 100: 18}\n"
       ]
      }
     ],
     "prompt_number": 25
    },
    {
     "cell_type": "code",
     "collapsed": false,
     "input": [
      "d = {'a':2,'b':3,'c':4,'d':4}\n",
      "m = max(d,key=(lambda x:d[x]))"
     ],
     "language": "python",
     "metadata": {},
     "outputs": [
      {
       "metadata": {},
       "output_type": "pyout",
       "prompt_number": 108,
       "text": [
        "'c'"
       ]
      }
     ],
     "prompt_number": 108
    }
   ],
   "metadata": {}
  }
 ]
}