{
 "metadata": {
  "name": "",
  "signature": "sha256:5de44ff70860d382be0f6fbdca4f4bb1998e27a28fc9fcf6a4876d15b2c2b086"
 },
 "nbformat": 3,
 "nbformat_minor": 0,
 "worksheets": [
  {
   "cells": [
    {
     "cell_type": "markdown",
     "metadata": {},
     "source": [
      "Python2 module for statistic v0.01\n",
      "* * *"
     ]
    },
    {
     "cell_type": "markdown",
     "metadata": {},
     "source": [
      "# today let's talk about (descriptive) statistic.\n",
      "* * *\n",
      "First, take a look at PEP0450 about the 3.3 updated statistic module \n",
      "    This PEP proposes the addition of a module for common statistics functions\n",
      "    such as mean, median, variance and standard deviation to the Python\n",
      "    standard library.\n",
      "\n",
      "And now our aim is to build one similar module for python 2, I need the following function:\n",
      "\n",
      "    avgs:\n",
      "        mean() # Arithmetic mean (\"average\") of data\n",
      "            .{{\n",
      "            Return the sample arithmetic mean of data, a sequence or iterator of real-valued numbers.\n",
      "            the arithmetic mean is the sum of the data divided by the number of data points. It is commonly called \"the average\", \n",
      "            althought it is only one of many different mathematical averages. It is a measure of the central location of the data.\n",
      "            If data is empty, StatisticsError will be raised.}}\n",
      "            \n",
      "        median() # median (middle value) of data\n",
      "            .{{\n",
      "            Return the median (middle value) of numeric data, using the common \u201cmean of middle two\u201d method. If data is empty,\n",
      "            StatisticsError is raised.}}\n",
      "            \n",
      "        median_low() # low median of data\n",
      "            .{{\n",
      "            Return the low median of numeric data. If data is empty, StatisticsError is raised.}}\n",
      "            \n",
      "        median_high() # high median of data\n",
      "            .{{\n",
      "            Return the high median of data. If data is empty, StatisticsError is raised.}}\n",
      "            \n",
      "        median_grouped() # median, or 50th percentile, of grouped data\n",
      "            .{{\n",
      "            Return the median of grouped continuous data, calculated as the 50th percentile, using interpolation. If data is empty,\n",
      "            StatisticsError is raised.}}\n",
      "            \n",
      "        mode() # Mode (most common value) of discrete data.\n",
      "            .{{\n",
      "            Return the most common data point from discrete or nominal data. The mode (when it exists) is the most typical value, \n",
      "            and is a robust measure of central location.}}\n",
      "            \n",
      "    measures_of_spread:\n",
      "        pstdev() # Population standard deviation of data.\n",
      "            .{{\n",
      "            Return the population standard deviation (the square root of the population variance).}}\n",
      "            \n",
      "        pvariance() # Population variance of data\n",
      "            .{{\n",
      "            Return the population variance of data, a non-empty iterable of real-valued numbers. Variance, or second moment about the\n",
      "            mean, is a measure of the variability (spread or dispersion) of data. A large variance indicates that the data is spread \n",
      "            out; a small variance indicates it is clustered closely around the mean.}}\n",
      "            \n",
      "        stdev() # Sample standard deviation of data\n",
      "            .{{\n",
      "            Return the sample standard deviation (the square root of the sample variance). See variance() for arguments and other\n",
      "            details.}}\n",
      "            \n",
      "        variance() # sample variance of data\n",
      "            .{{\n",
      "            Return the sample variance of data, an iterable of at least two real-valued numbers. Variance, or second moment about the\n",
      "            mean, is a measure of the variability (spread or dispersion) of data. A large variance indicates that the data is spread \n",
      "            out; a small variance indicates it is clustered closely around the mean.}}\n",
      "    \n",
      "    \n",
      "The aims are:\n",
      "\n",
      "    - Correctness over speed.\n",
      "\n",
      "    - Concentrate on data in sequences, allowing two-passes over the data,\n",
      "      rather than potentially compromise on accuracy for the sake of a one-pass\n",
      "      algorithm.  Functions expect data will be passed as a list or other\n",
      "      sequence; if given an iterator, they may internally convert to a list.\n",
      "\n",
      "    - Functions should, as much as possible, honour any type of numeric data.\n",
      "      E.g. the mean of a list of Decimals should be a Decimal, not a float.\n",
      "      When this is not possible, treat float as the \"lowest common data type\".\n",
      "\n",
      "    - Although functions support data sets of floats, Decimals or Fractions,\n",
      "      there is no guarantee that *mixed* data sets will be supported. (But on\n",
      "      the other hand, they aren't explicitly rejected either.)\n",
      "\n",
      "    - Plenty of documentation, aimed at readers who understand the basic\n",
      "      concepts but may not know (for example) which variance they should use\n",
      "      (population or sample?). Mathematicians and statisticians have a terrible\n",
      "      habit of being inconsistent with both notation and terminology[19], and\n",
      "      having spent many hours making sense of the contradictory/confusing\n",
      "      definitions in use, it is only fair that I do my best to clarify rather\n",
      "      than obfuscate the topic.\n",
      "\n",
      "    - But avoid going into tedious[20] mathematical detail.\n",
      "    \n",
      "# some good reference notes:\n",
      "    http://murphymind.blogspot.tw/2011/09/statistics.html # this is a very simple and conceptual note about statistics.\n",
      "    "
     ]
    },
    {
     "cell_type": "code",
     "collapsed": false,
     "input": [
      "# the module will be used here:\n",
      "%matplotlib inline\n",
      "import collections\n",
      "import math\n",
      "from fractions import Fraction\n",
      "from decimal import Decimal\n",
      "import matplotlib as mpl"
     ],
     "language": "python",
     "metadata": {},
     "outputs": [],
     "prompt_number": 5
    },
    {
     "cell_type": "code",
     "collapsed": false,
     "input": [
      "# The class we build here:\n",
      "# Structural level -- 1\n",
      "class statisticsSL1():\n",
      "    \n",
      "    # @@ Private utilities\n",
      "    # # concepts we need: _sum, _check_type, _exact_ratio, _decimal_to_ratio, _counts,\n",
      "    def _sum(data):\n",
      "        if data is not list:\n",
      "            list(data)\n",
      "        data\n",
      "               \n",
      "    \n",
      "    # @@ Measures of central tendency (averages) \n",
      "    # # concepts we need: mean, median, median_low, median_high, median_grouped, mode, \n",
      "    \n",
      "    # @@ Measures of spread\n",
      "    # # concepts we need: _ss, variance, pvariance, stdev, pstdev, \n",
      "    \n",
      "        # Return sum of square deviation of sequence data\n",
      "\n",
      "    "
     ],
     "language": "python",
     "metadata": {},
     "outputs": [],
     "prompt_number": 34
    },
    {
     "cell_type": "code",
     "collapsed": false,
     "input": [
      "# the class we build here:\n",
      "# structural Level -- 2"
     ],
     "language": "python",
     "metadata": {},
     "outputs": [],
     "prompt_number": 9
    },
    {
     "cell_type": "code",
     "collapsed": false,
     "input": [
      "# the class we build here:\n",
      "# structural Level -- 3\n",
      "class statisticsSL3():\n",
      "    # Exceptions\n",
      "    class StaticticsError(ValueError):\n",
      "        pass\n",
      "    \n",
      "    # @@ Private utilities\n",
      "    # # concepts we need: _sum, _check_type, _exact_ratio, _decimal_to_ratio, _counts,\n",
      "        \n",
      "    \n",
      "    # @@ Measures of central tendency (averages) \n",
      "    # # concepts we need: mean, median, median_low, median_high, median_grouped, mode, \n",
      "    \n",
      "    # @@ Measures of spread\n",
      "    # # concepts we need: _ss, variance, pvariance, stdev, pstdev, \n",
      "    \n",
      "        # Return sum of square deviation of sequence data\n",
      "    if c is None:\n",
      "        c = mean(data)\n",
      "    "
     ],
     "language": "python",
     "metadata": {},
     "outputs": []
    },
    {
     "cell_type": "code",
     "collapsed": false,
     "input": [
      "# some test code here:\n"
     ],
     "language": "python",
     "metadata": {},
     "outputs": [
      {
       "metadata": {},
       "output_type": "pyout",
       "prompt_number": 19,
       "text": [
        "False"
       ]
      }
     ],
     "prompt_number": 19
    },
    {
     "cell_type": "code",
     "collapsed": false,
     "input": [
      "import random\n",
      "\n",
      "data = [random.randint(1,20) for r in range(100)]\n",
      "data\n",
      "\n",
      "print sum(data)\n",
      "print mean(data)\n",
      "print median(data)\n",
      "print median_high(data)"
     ],
     "language": "python",
     "metadata": {},
     "outputs": [
      {
       "output_type": "stream",
       "stream": "stdout",
       "text": [
        "1049\n",
        "10.49\n",
        "11.0\n"
       ]
      },
      {
       "ename": "NameError",
       "evalue": "name 'median_high' is not defined",
       "output_type": "pyerr",
       "traceback": [
        "\u001b[1;31m---------------------------------------------------------------------------\u001b[0m\n\u001b[1;31mNameError\u001b[0m                                 Traceback (most recent call last)",
        "\u001b[1;32m<ipython-input-4-d057b440ef41>\u001b[0m in \u001b[0;36m<module>\u001b[1;34m()\u001b[0m\n\u001b[0;32m      7\u001b[0m \u001b[1;32mprint\u001b[0m \u001b[0mmean\u001b[0m\u001b[1;33m(\u001b[0m\u001b[0mdata\u001b[0m\u001b[1;33m)\u001b[0m\u001b[1;33m\u001b[0m\u001b[0m\n\u001b[0;32m      8\u001b[0m \u001b[1;32mprint\u001b[0m \u001b[0mmedian\u001b[0m\u001b[1;33m(\u001b[0m\u001b[0mdata\u001b[0m\u001b[1;33m)\u001b[0m\u001b[1;33m\u001b[0m\u001b[0m\n\u001b[1;32m----> 9\u001b[1;33m \u001b[1;32mprint\u001b[0m \u001b[0mmedian_high\u001b[0m\u001b[1;33m(\u001b[0m\u001b[0mdata\u001b[0m\u001b[1;33m)\u001b[0m\u001b[1;33m\u001b[0m\u001b[0m\n\u001b[0m",
        "\u001b[1;31mNameError\u001b[0m: name 'median_high' is not defined"
       ]
      }
     ],
     "prompt_number": 4
    },
    {
     "cell_type": "code",
     "collapsed": false,
     "input": [
      "a= random.seed"
     ],
     "language": "python",
     "metadata": {},
     "outputs": []
    }
   ],
   "metadata": {}
  }
 ]
}